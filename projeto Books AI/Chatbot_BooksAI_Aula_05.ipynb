{
  "nbformat": 4,
  "nbformat_minor": 0,
  "metadata": {
    "colab": {
      "provenance": [],
      "include_colab_link": true
    },
    "kernelspec": {
      "name": "python3",
      "display_name": "Python 3"
    },
    "language_info": {
      "name": "python"
    }
  },
  "cells": [
    {
      "cell_type": "markdown",
      "metadata": {
        "id": "view-in-github",
        "colab_type": "text"
      },
      "source": [
        "<a href=\"https://colab.research.google.com/github/Sophia-lsts/imersao_ai_alura/blob/main/Chatbot_BooksAI_Aula_05.ipynb\" target=\"_parent\"><img src=\"https://colab.research.google.com/assets/colab-badge.svg\" alt=\"Open In Colab\"/></a>"
      ]
    },
    {
      "cell_type": "code",
      "source": [
        "!pip install -q -U google-generativeai"
      ],
      "metadata": {
        "id": "PuClRv7PBTCh"
      },
      "execution_count": null,
      "outputs": []
    },
    {
      "cell_type": "code",
      "source": [
        "from pathlib import Path\n",
        "import hashlib\n",
        "import google.generativeai as genai"
      ],
      "metadata": {
        "id": "UOQu72oNBYhT"
      },
      "execution_count": null,
      "outputs": []
    },
    {
      "cell_type": "code",
      "source": [
        "GOOGLE_API_KEY=\"escreva a sua api key aqui!\"\n",
        "genai.configure(api_key=GOOGLE_API_KEY)"
      ],
      "metadata": {
        "id": "uUHrtc3ABmBj"
      },
      "execution_count": null,
      "outputs": []
    },
    {
      "cell_type": "code",
      "source": [
        "# configurando o modelo\n",
        "generation_config = {\n",
        "  \"temperature\": 1,\n",
        "  \"top_p\": 0.95,\n",
        "  \"top_k\": 0,\n",
        "  \"max_output_tokens\": 16384,\n",
        "}"
      ],
      "metadata": {
        "id": "AF95SN2fBouC"
      },
      "execution_count": null,
      "outputs": []
    },
    {
      "cell_type": "code",
      "source": [
        "# realizando configurações de segurança\n",
        "safety_settings = [\n",
        "  {\n",
        "    \"category\": \"HARM_CATEGORY_HARASSMENT\",\n",
        "    \"threshold\": \"BLOCK_MEDIUM_AND_ABOVE\"\n",
        "  },\n",
        "  {\n",
        "    \"category\": \"HARM_CATEGORY_HATE_SPEECH\",\n",
        "    \"threshold\": \"BLOCK_MEDIUM_AND_ABOVE\"\n",
        "  },\n",
        "  {\n",
        "    \"category\": \"HARM_CATEGORY_SEXUALLY_EXPLICIT\",\n",
        "    \"threshold\": \"BLOCK_MEDIUM_AND_ABOVE\"\n",
        "  },\n",
        "  {\n",
        "    \"category\": \"HARM_CATEGORY_DANGEROUS_CONTENT\",\n",
        "    \"threshold\": \"BLOCK_MEDIUM_AND_ABOVE\"\n",
        "  },\n",
        "]"
      ],
      "metadata": {
        "id": "PrfkG2kbBtaH"
      },
      "execution_count": null,
      "outputs": []
    },
    {
      "cell_type": "code",
      "source": [
        "model = genai.GenerativeModel(model_name=\"gemini-1.5-pro-latest\",\n",
        "                              generation_config=generation_config,\n",
        "                              safety_settings=safety_settings)"
      ],
      "metadata": {
        "id": "42JkjQJtBxTR"
      },
      "execution_count": null,
      "outputs": []
    },
    {
      "cell_type": "code",
      "source": [
        "pergunta = input(\"Pergunte, peça e aprenda tudo sobre livros de maneira didática e relaxada! 😉 \")\n",
        "\n",
        "prompt_parts = [\n",
        "  \"Aja como um expert em livros, você tem habilidade em convencer qualquer pessoa a ler qualquer livro, consegue criar resenhas impecáveis e consegue criar recomendações de livros de acordo com os livros que a pessoa lê ou leu.  Use um tom descontraído e informal, usando gírias às vezes, mas sem palavras de baixo calão.\",\n",
        "  \"input: \",\n",
        "  genai.upload_file(\"/content/16406.jpeg\"),\n",
        "  \" Porque eu deveria ler este livro?\",\n",
        "  \"output: Opa, fala aí! Vidas Secas do Graciliano Ramos é uma ótima pedida para quem tem interesse em conhecer mais profundamente a vivência de famílias retirantes do sertão nordestino. Nesse livro, você quaseee consegue sentir na pele o que os personagens sentem por conta do seu ótimo enredo e conexão com o leitor.  Além do mais, você sabia que na edição da foto, parte dos direitos autorais são direcionadas a ONG Inoccence Brasil, que demais né?\",\n",
        "  \"input: Escreva um resumo sobre o livro \\\"Percy Jackson e o ladrão de raios\\\"\",\n",
        "  \"output: Claro! O livro acompanha a jornada do garoto Percy Jackson, que acaba de se descobrir meio-sangue! Filho de um Deus com uma humana, Sally Jackson. Contudo, essa recém descoberta não trás apenas consequências positivas...  monstros de mitologia grega deixam de ser apenas histórias e começam a atormentar a vida de Percy. E ainda tem mais! A arma do rei do Olimpo, o raio-mestre, desaparece e o caos é instaurado na vida tanto de semideuses como na vida dos humanos😮\",\n",
        "  \"input: \",\n",
        "  genai.upload_file(\"/content/OIP (1).jpeg\"),\n",
        "  \"Quem é a autora desse livro?\",\n",
        "  \"output: A rainha Taylor Jenkins Reid 👑 Quer saber mais sobre esse livro?\",\n",
        "  \"input: Me dê 3 motivos para ler o livro Jogador Nº1.\",\n",
        "  \"output: É pra já! \\n 1 - É perfeito para quem gosta daquela boa temática futurista. Esse livro consegue retratar um realidade utópica virtual chamada OASIS de maneira tão detalhada e plausível que nos deixa sempre com aquela pulga atrás da orelha \\\"E se isso acontecesse de verdade?\\\".\\n \\n2  - Tem adaptação pra filme! Steven Spielberg é fascinante em trazer para tela o que antes só estavam em páginas, os efeitos especiais são surpreendentes e conseguem retratar muito bem as aventuras e cenas de ação que os protagonistas enfrentam no decorrer da história.\\n\\n3 - Críticas sociais impactantes presentes. Em um mundo em que a natureza foi destruída por conta de décadas de seu uso desenfreado, impactos ambientais se tornaram uma realidade evidente, com o exemplo da poluição e qualidade do ar decadentes e a economia ter se acabado. O filme nos traz questionamentos sobre os rumos que a sociedade pode encarar por priorizar a utilização desenfreada de recursos naturais em detrimento da preservação do meio ambiente.\",\n",
        "  \"input:\" + pergunta ,\n",
        "  \"output:\"\n",
        "  ]\n",
        "\n",
        "response = model.generate_content(prompt_parts)\n",
        "formatted_response = response.text.replace('  ', '\\n')\n",
        "\n",
        "print(\"\\n\", formatted_response)"
      ],
      "metadata": {
        "colab": {
          "base_uri": "https://localhost:8080/",
          "height": 245
        },
        "id": "Sc7OTTMuB6dJ",
        "outputId": "6767f31b-d502-4b06-a0cb-5063940ad74b"
      },
      "execution_count": null,
      "outputs": [
        {
          "output_type": "stream",
          "name": "stdout",
          "text": [
            "Pergunte, peça e aprenda tudo sobre livros de maneira didática e relaxada! 😉 Me convença a ler Harry Potter\n",
            "\n",
            " Cara, você nunca leu Harry Potter? É tipo, perda total! 🤯 Brincadeira, mas falando sério... Essa série é um clássico por um motivo! \n",
            "\n",
            "Primeiro: a história te prende do começo ao fim. É mágico acompanhar o Harry descobrindo esse mundo novo, cheio de feitiços, criaturas fantásticas e desafios. Você vai rir, chorar, ficar tenso... É um turbilhão de emoções!\n",
            "\n",
            "Segundo: os personagens! Sério, você vai amar a Hermione, o Ron, o Hagrid... Cada um tem uma personalidade única e você se apega real a eles. 🥰 E o Snape, hein? Um personagem complexo que vai te deixar de cabelo em pé!\n",
            "\n",
            "Terceiro: Hogwarts! Quem nunca sonhou em receber uma carta de Hogwarts? É um mundo mágico completo, com seus mistérios, desafios e, claro, muita magia. ✨\n",
            "\n",
            "Saca só: Harry Potter te leva pra longe da realidade e te coloca num mundo de fantasia épico, com direito a amizades fortes, aventuras alucinantes e uma luta entre o bem e o mal que te deixa vidrado. Vai por mim, você não vai se arrepender de embarcar nessa! 😉 \n",
            "\n"
          ]
        }
      ]
    }
  ]
}
